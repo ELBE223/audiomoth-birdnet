{
 "cells": [
  {
   "cell_type": "markdown",
   "id": "f63c0c31",
   "metadata": {},
   "source": [
    "Block 0 — Install"
   ]
  },
  {
   "cell_type": "code",
   "execution_count": null,
   "id": "1a8fd115",
   "metadata": {},
   "outputs": [],
   "source": [
    "%pip install -U -r ../env/requirements.txt\n",
    "# Restart kernel after install"
   ]
  },
  {
   "cell_type": "markdown",
   "id": "7ced7252",
   "metadata": {},
   "source": [
    "Block 1 — System & project check "
   ]
  },
  {
   "cell_type": "code",
   "execution_count": null,
   "id": "847ec19d",
   "metadata": {},
   "outputs": [],
   "source": [
    "# System + project check (adds project root to imports)\n",
    "import sys, platform, multiprocessing, psutil\n",
    "from pathlib import Path\n",
    "\n",
    "PROJECT_ROOT = Path(\"..\").resolve()\n",
    "if str(PROJECT_ROOT) not in sys.path:\n",
    "    sys.path.insert(0, str(PROJECT_ROOT))\n",
    "Path(PROJECT_ROOT / \"src\" / \"__init__.py\").touch()\n",
    "\n",
    "# Settings\n",
    "BASE_PATH = Path(\"/Volumes/My Passport/\")   # <- change to your audio root\n",
    "PATTERN   = \"AudioMoth_*\"                   # or None\n",
    "OUT_DIR   = (PROJECT_ROOT / \"results\" / \"csv\").resolve()\n",
    "CONF      = 0.10\n",
    "CPU_CORES = multiprocessing.cpu_count()\n",
    "RECOMMENDED_WORKERS = max(1, CPU_CORES - 1)  # best default on CPU\n",
    "WORKERS   = 2 \n",
    "\n",
    "OUT_DIR.mkdir(parents=True, exist_ok=True)\n",
    "\n",
    "# Diagnostics (short)\n",
    "print(\"— System —\")\n",
    "print(\"OS:\", platform.system(), platform.release(), \"| Py:\", platform.python_version())\n",
    "print(\"Arch:\", platform.machine(), \"| CPU cores:\", CPU_CORES)\n",
    "try:\n",
    "    import tensorflow as tf\n",
    "    print(\"TF:\", tf.__version__, \"(lite available)\")\n",
    "except Exception:\n",
    "    try:\n",
    "        import tflite_runtime.interpreter as _tfl\n",
    "        print(\"tflite_runtime available\")\n",
    "    except Exception:\n",
    "        print(\"TFLite: not detected (birdnetlib will raise if missing)\")\n",
    "\n",
    "vm = psutil.virtual_memory()\n",
    "print(\"RAM:\", round(vm.total/1024**3, 1), \"GB\")\n",
    "print(\"GPU note: birdnetlib/TFLite uses CPU (XNNPACK), not GPU.\")\n",
    "print(\"OUT_DIR:\", OUT_DIR)"
   ]
  },
  {
   "cell_type": "markdown",
   "id": "1ed3ef34",
   "metadata": {},
   "source": [
    "Block 2 — Discover files"
   ]
  },
  {
   "cell_type": "code",
   "execution_count": null,
   "id": "5496b488",
   "metadata": {},
   "outputs": [],
   "source": [
    "from src.birdnet_batch import find_audio_files\n",
    "\n",
    "files = find_audio_files(BASE_PATH, PATTERN)\n",
    "print(\"Found files:\", len(files))\n",
    "for f in files[:10]: print(\"-\", f)\n",
    "assert files, \"No audio files found.\""
   ]
  },
  {
   "cell_type": "markdown",
   "id": "207acc94",
   "metadata": {},
   "source": [
    "Block 3 — Test one file → CSV"
   ]
  },
  {
   "cell_type": "code",
   "execution_count": null,
   "id": "cf0b367e",
   "metadata": {},
   "outputs": [],
   "source": [
    "from src.birdnet_batch import analyze_one_to_csv\n",
    "\n",
    "test_file = files[0]  # choose another if you want\n",
    "print(\"Test file:\", test_file)\n",
    "csv_path = analyze_one_to_csv(test_file, OUT_DIR, min_conf=CONF)\n",
    "print(\"Wrote:\", csv_path)"
   ]
  },
  {
   "cell_type": "markdown",
   "id": "b7113590",
   "metadata": {},
   "source": [
    "Block 4 — Full batch → per-file CSVs"
   ]
  },
  {
   "cell_type": "code",
   "execution_count": 4,
   "id": "b1f6640a",
   "metadata": {},
   "outputs": [],
   "source": [
    "# run once\n",
    "import importlib, src.birdnet_batch as bb\n",
    "importlib.reload(bb)\n",
    "\n",
    "from src.birdnet_batch import analyze_batch_with_progress, compile_master_csv"
   ]
  },
  {
   "cell_type": "code",
   "execution_count": null,
   "id": "c73a92f6",
   "metadata": {},
   "outputs": [],
   "source": [
    "# Full batch with progress \n",
    "from src.birdnet_batch import analyze_batch_with_progress, compile_master_csv\n",
    "\n",
    "written = analyze_batch_with_progress(\n",
    "    files, OUT_DIR, min_conf=CONF, workers=WORKERS  # WORKERS from Block 1 (CPU_CORES-1)\n",
    ")\n",
    "print(\"Per-file CSVs:\", len(written))\n",
    "\n",
    "master = compile_master_csv(OUT_DIR, master_name=\"master_results.csv\")\n",
    "print(\"Master CSV:\", master, \"| exists:\", master.exists())"
   ]
  },
  {
   "cell_type": "markdown",
   "id": "d67b8c91",
   "metadata": {},
   "source": [
    "Block 5 — Quick QA"
   ]
  },
  {
   "cell_type": "code",
   "execution_count": null,
   "id": "f4199ad7",
   "metadata": {},
   "outputs": [],
   "source": [
    "import pandas as pd\n",
    "master = OUT_DIR / \"master_results.csv\"\n",
    "df = pd.read_csv(master)\n",
    "print(df.shape)\n",
    "df.head()"
   ]
  }
 ],
 "metadata": {
  "kernelspec": {
   "display_name": "Python 3",
   "language": "python",
   "name": "python3"
  },
  "language_info": {
   "codemirror_mode": {
    "name": "ipython",
    "version": 3
   },
   "file_extension": ".py",
   "mimetype": "text/x-python",
   "name": "python",
   "nbconvert_exporter": "python",
   "pygments_lexer": "ipython3",
   "version": "3.11.11"
  }
 },
 "nbformat": 4,
 "nbformat_minor": 5
}
