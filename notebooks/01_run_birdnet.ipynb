{
 "cells": [
  {
   "cell_type": "markdown",
   "id": "f63c0c31",
   "metadata": {},
   "source": [
    "Block 0 — Install"
   ]
  },
  {
   "cell_type": "code",
   "execution_count": 5,
   "id": "1a8fd115",
   "metadata": {},
   "outputs": [
    {
     "name": "stdout",
     "output_type": "stream",
     "text": [
      "Collecting birdnetlib==0.18.0 (from -r ../env/requirements.txt (line 1))\n",
      "  Using cached birdnetlib-0.18.0-py3-none-any.whl.metadata (4.3 kB)\n",
      "Requirement already satisfied: librosa==0.10.2.post1 in /opt/homebrew/lib/python3.11/site-packages (from -r ../env/requirements.txt (line 2)) (0.10.2.post1)\n",
      "Requirement already satisfied: resampy==0.4.3 in /opt/homebrew/lib/python3.11/site-packages (from -r ../env/requirements.txt (line 3)) (0.4.3)\n",
      "Requirement already satisfied: soundfile>=0.12 in /opt/homebrew/lib/python3.11/site-packages (from -r ../env/requirements.txt (line 4)) (0.13.1)\n",
      "Requirement already satisfied: tqdm>=4.66 in /opt/homebrew/lib/python3.11/site-packages (from -r ../env/requirements.txt (line 5)) (4.67.1)\n",
      "Requirement already satisfied: numpy<2.0 in /opt/homebrew/lib/python3.11/site-packages (from -r ../env/requirements.txt (line 6)) (1.26.4)\n",
      "Requirement already satisfied: matplotlib>=3.5.3 in /opt/homebrew/lib/python3.11/site-packages (from birdnetlib==0.18.0->-r ../env/requirements.txt (line 1)) (3.8.0)\n",
      "Requirement already satisfied: pydub==0.25.1 in /opt/homebrew/lib/python3.11/site-packages (from birdnetlib==0.18.0->-r ../env/requirements.txt (line 1)) (0.25.1)\n",
      "Requirement already satisfied: requests>=2.28.1 in /opt/homebrew/lib/python3.11/site-packages (from birdnetlib==0.18.0->-r ../env/requirements.txt (line 1)) (2.32.3)\n",
      "Requirement already satisfied: watchdog==2.1.9 in /opt/homebrew/lib/python3.11/site-packages (from birdnetlib==0.18.0->-r ../env/requirements.txt (line 1)) (2.1.9)\n",
      "Requirement already satisfied: audioread>=2.1.9 in /opt/homebrew/lib/python3.11/site-packages (from librosa==0.10.2.post1->-r ../env/requirements.txt (line 2)) (3.0.1)\n",
      "Requirement already satisfied: scipy>=1.2.0 in /opt/homebrew/lib/python3.11/site-packages (from librosa==0.10.2.post1->-r ../env/requirements.txt (line 2)) (1.16.0)\n",
      "Requirement already satisfied: scikit-learn>=0.20.0 in /opt/homebrew/lib/python3.11/site-packages (from librosa==0.10.2.post1->-r ../env/requirements.txt (line 2)) (1.7.0)\n",
      "Requirement already satisfied: joblib>=0.14 in /opt/homebrew/lib/python3.11/site-packages (from librosa==0.10.2.post1->-r ../env/requirements.txt (line 2)) (1.5.1)\n",
      "Requirement already satisfied: decorator>=4.3.0 in /opt/homebrew/lib/python3.11/site-packages (from librosa==0.10.2.post1->-r ../env/requirements.txt (line 2)) (5.1.1)\n",
      "Requirement already satisfied: numba>=0.51.0 in /opt/homebrew/lib/python3.11/site-packages (from librosa==0.10.2.post1->-r ../env/requirements.txt (line 2)) (0.62.1)\n",
      "Requirement already satisfied: pooch>=1.1 in /opt/homebrew/lib/python3.11/site-packages (from librosa==0.10.2.post1->-r ../env/requirements.txt (line 2)) (1.8.2)\n",
      "Requirement already satisfied: soxr>=0.3.2 in /opt/homebrew/lib/python3.11/site-packages (from librosa==0.10.2.post1->-r ../env/requirements.txt (line 2)) (1.0.0)\n",
      "Requirement already satisfied: typing-extensions>=4.1.1 in /opt/homebrew/lib/python3.11/site-packages (from librosa==0.10.2.post1->-r ../env/requirements.txt (line 2)) (4.8.0)\n",
      "Requirement already satisfied: lazy-loader>=0.1 in /opt/homebrew/lib/python3.11/site-packages (from librosa==0.10.2.post1->-r ../env/requirements.txt (line 2)) (0.4)\n",
      "Requirement already satisfied: msgpack>=1.0 in /opt/homebrew/lib/python3.11/site-packages (from librosa==0.10.2.post1->-r ../env/requirements.txt (line 2)) (1.1.1)\n",
      "Requirement already satisfied: cffi>=1.0 in /opt/homebrew/lib/python3.11/site-packages (from soundfile>=0.12->-r ../env/requirements.txt (line 4)) (1.16.0)\n",
      "Requirement already satisfied: pycparser in /opt/homebrew/lib/python3.11/site-packages (from cffi>=1.0->soundfile>=0.12->-r ../env/requirements.txt (line 4)) (2.22)\n",
      "Requirement already satisfied: packaging in /opt/homebrew/lib/python3.11/site-packages (from lazy-loader>=0.1->librosa==0.10.2.post1->-r ../env/requirements.txt (line 2)) (25.0)\n",
      "Requirement already satisfied: contourpy>=1.0.1 in /opt/homebrew/lib/python3.11/site-packages (from matplotlib>=3.5.3->birdnetlib==0.18.0->-r ../env/requirements.txt (line 1)) (1.1.1)\n",
      "Requirement already satisfied: cycler>=0.10 in /opt/homebrew/lib/python3.11/site-packages (from matplotlib>=3.5.3->birdnetlib==0.18.0->-r ../env/requirements.txt (line 1)) (0.12.1)\n",
      "Requirement already satisfied: fonttools>=4.22.0 in /opt/homebrew/lib/python3.11/site-packages (from matplotlib>=3.5.3->birdnetlib==0.18.0->-r ../env/requirements.txt (line 1)) (4.43.1)\n",
      "Requirement already satisfied: kiwisolver>=1.0.1 in /opt/homebrew/lib/python3.11/site-packages (from matplotlib>=3.5.3->birdnetlib==0.18.0->-r ../env/requirements.txt (line 1)) (1.4.5)\n",
      "Requirement already satisfied: pillow>=6.2.0 in /opt/homebrew/lib/python3.11/site-packages (from matplotlib>=3.5.3->birdnetlib==0.18.0->-r ../env/requirements.txt (line 1)) (10.0.1)\n",
      "Requirement already satisfied: pyparsing>=2.3.1 in /opt/homebrew/lib/python3.11/site-packages (from matplotlib>=3.5.3->birdnetlib==0.18.0->-r ../env/requirements.txt (line 1)) (3.1.1)\n",
      "Requirement already satisfied: python-dateutil>=2.7 in /opt/homebrew/lib/python3.11/site-packages (from matplotlib>=3.5.3->birdnetlib==0.18.0->-r ../env/requirements.txt (line 1)) (2.9.0.post0)\n",
      "Requirement already satisfied: llvmlite<0.46,>=0.45.0dev0 in /opt/homebrew/lib/python3.11/site-packages (from numba>=0.51.0->librosa==0.10.2.post1->-r ../env/requirements.txt (line 2)) (0.45.0)\n",
      "Requirement already satisfied: platformdirs>=2.5.0 in /opt/homebrew/lib/python3.11/site-packages (from pooch>=1.1->librosa==0.10.2.post1->-r ../env/requirements.txt (line 2)) (4.0.0)\n",
      "Requirement already satisfied: charset-normalizer<4,>=2 in /opt/homebrew/lib/python3.11/site-packages (from requests>=2.28.1->birdnetlib==0.18.0->-r ../env/requirements.txt (line 1)) (3.3.2)\n",
      "Requirement already satisfied: idna<4,>=2.5 in /opt/homebrew/lib/python3.11/site-packages (from requests>=2.28.1->birdnetlib==0.18.0->-r ../env/requirements.txt (line 1)) (3.6)\n",
      "Requirement already satisfied: urllib3<3,>=1.21.1 in /opt/homebrew/lib/python3.11/site-packages (from requests>=2.28.1->birdnetlib==0.18.0->-r ../env/requirements.txt (line 1)) (2.2.2)\n",
      "Requirement already satisfied: certifi>=2017.4.17 in /opt/homebrew/lib/python3.11/site-packages (from requests>=2.28.1->birdnetlib==0.18.0->-r ../env/requirements.txt (line 1)) (2023.11.17)\n",
      "Requirement already satisfied: threadpoolctl>=3.1.0 in /opt/homebrew/lib/python3.11/site-packages (from scikit-learn>=0.20.0->librosa==0.10.2.post1->-r ../env/requirements.txt (line 2)) (3.6.0)\n",
      "Requirement already satisfied: six>=1.5 in /opt/homebrew/lib/python3.11/site-packages (from python-dateutil>=2.7->matplotlib>=3.5.3->birdnetlib==0.18.0->-r ../env/requirements.txt (line 1)) (1.17.0)\n",
      "Using cached birdnetlib-0.18.0-py3-none-any.whl (61.1 MB)\n",
      "Installing collected packages: birdnetlib\n",
      "  Attempting uninstall: birdnetlib\n",
      "    Found existing installation: birdnetlib 0.15.0\n",
      "    Uninstalling birdnetlib-0.15.0:\n",
      "      Successfully uninstalled birdnetlib-0.15.0\n",
      "Successfully installed birdnetlib-0.18.0\n",
      "\n",
      "\u001b[1m[\u001b[0m\u001b[34;49mnotice\u001b[0m\u001b[1;39;49m]\u001b[0m\u001b[39;49m A new release of pip is available: \u001b[0m\u001b[31;49m24.3.1\u001b[0m\u001b[39;49m -> \u001b[0m\u001b[32;49m25.2\u001b[0m\n",
      "\u001b[1m[\u001b[0m\u001b[34;49mnotice\u001b[0m\u001b[1;39;49m]\u001b[0m\u001b[39;49m To update, run: \u001b[0m\u001b[32;49mpython3.11 -m pip install --upgrade pip\u001b[0m\n",
      "Note: you may need to restart the kernel to use updated packages.\n"
     ]
    }
   ],
   "source": [
    "%pip install -U -r ../env/requirements.txt\n",
    "# Restart kernel after install"
   ]
  },
  {
   "cell_type": "markdown",
   "id": "7ced7252",
   "metadata": {},
   "source": [
    "Block 1 — System & project check "
   ]
  },
  {
   "cell_type": "code",
   "execution_count": 2,
   "id": "847ec19d",
   "metadata": {},
   "outputs": [
    {
     "name": "stdout",
     "output_type": "stream",
     "text": [
      "— System —\n",
      "OS: Darwin 24.6.0 | Py: 3.11.11\n",
      "Arch: arm64 | CPU cores: 8\n",
      "TF: 2.16.2 (lite available)\n",
      "RAM: 8.0 GB\n",
      "GPU note: birdnetlib/TFLite uses CPU (XNNPACK), not GPU.\n",
      "OUT_DIR: /Users/lucasbeseler/project:AudioMoth_BirdNET/results/csv\n"
     ]
    }
   ],
   "source": [
    "# System + project check (adds project root to imports)\n",
    "import sys, platform, multiprocessing, psutil\n",
    "from pathlib import Path\n",
    "\n",
    "PROJECT_ROOT = Path(\"..\").resolve()\n",
    "if str(PROJECT_ROOT) not in sys.path:\n",
    "    sys.path.insert(0, str(PROJECT_ROOT))\n",
    "Path(PROJECT_ROOT / \"src\" / \"__init__.py\").touch()\n",
    "\n",
    "# Settings\n",
    "BASE_PATH = Path(\"/Volumes/My Passport/\")   # <- change to your audio root\n",
    "PATTERN   = \"AudioMoth_*\"                   # or None\n",
    "OUT_DIR   = (PROJECT_ROOT / \"results\" / \"csv\").resolve()\n",
    "CONF      = 0.10\n",
    "CPU_CORES = multiprocessing.cpu_count()\n",
    "RECOMMENDED_WORKERS = max(1, CPU_CORES - 1)  # best default on CPU\n",
    "WORKERS   = RECOMMENDED_WORKERS\n",
    "\n",
    "OUT_DIR.mkdir(parents=True, exist_ok=True)\n",
    "\n",
    "# Diagnostics (short)\n",
    "print(\"— System —\")\n",
    "print(\"OS:\", platform.system(), platform.release(), \"| Py:\", platform.python_version())\n",
    "print(\"Arch:\", platform.machine(), \"| CPU cores:\", CPU_CORES)\n",
    "try:\n",
    "    import tensorflow as tf\n",
    "    print(\"TF:\", tf.__version__, \"(lite available)\")\n",
    "except Exception:\n",
    "    try:\n",
    "        import tflite_runtime.interpreter as _tfl\n",
    "        print(\"tflite_runtime available\")\n",
    "    except Exception:\n",
    "        print(\"TFLite: not detected (birdnetlib will raise if missing)\")\n",
    "\n",
    "vm = psutil.virtual_memory()\n",
    "print(\"RAM:\", round(vm.total/1024**3, 1), \"GB\")\n",
    "print(\"GPU note: birdnetlib/TFLite uses CPU (XNNPACK), not GPU.\")\n",
    "print(\"OUT_DIR:\", OUT_DIR)"
   ]
  },
  {
   "cell_type": "markdown",
   "id": "1ed3ef34",
   "metadata": {},
   "source": [
    "Block 2 — Discover files"
   ]
  },
  {
   "cell_type": "code",
   "execution_count": 3,
   "id": "5496b488",
   "metadata": {},
   "outputs": [
    {
     "name": "stdout",
     "output_type": "stream",
     "text": [
      "Found files: 290\n",
      "- /Volumes/My Passport/AudioMoth_92/20250501_050000.WAV\n",
      "- /Volumes/My Passport/AudioMoth_92/20250422_050000.WAV\n",
      "- /Volumes/My Passport/AudioMoth_92/20250418_050000.WAV\n",
      "- /Volumes/My Passport/AudioMoth_92/20250510_050000.WAV\n",
      "- /Volumes/My Passport/AudioMoth_92/20250509_050000.WAV\n",
      "- /Volumes/My Passport/AudioMoth_92/20250427_050000.WAV\n",
      "- /Volumes/My Passport/AudioMoth_92/20250504_050000.WAV\n",
      "- /Volumes/My Passport/AudioMoth_92/20250503_050000.WAV\n",
      "- /Volumes/My Passport/AudioMoth_92/20250420_050000.WAV\n",
      "- /Volumes/My Passport/AudioMoth_92/20250417_050000.WAV\n"
     ]
    }
   ],
   "source": [
    "from src.birdnet_batch import find_audio_files\n",
    "\n",
    "files = find_audio_files(BASE_PATH, PATTERN)\n",
    "print(\"Found files:\", len(files))\n",
    "for f in files[:10]: print(\"-\", f)\n",
    "assert files, \"No audio files found.\""
   ]
  },
  {
   "cell_type": "markdown",
   "id": "207acc94",
   "metadata": {},
   "source": [
    "Block 3 — Test one file → CSV"
   ]
  },
  {
   "cell_type": "code",
   "execution_count": 4,
   "id": "3ec780d4",
   "metadata": {},
   "outputs": [
    {
     "name": "stdout",
     "output_type": "stream",
     "text": [
      "Test file: /Volumes/My Passport/AudioMoth_92/20250501_050000.WAV\n",
      "Labels loaded.\n",
      "load model True\n",
      "Model loaded.\n",
      "Labels loaded.\n",
      "load_species_list_model\n",
      "Meta model loaded.\n",
      "read_audio_data\n"
     ]
    },
    {
     "name": "stderr",
     "output_type": "stream",
     "text": [
      "INFO: Created TensorFlow Lite XNNPACK delegate for CPU.\n",
      "WARNING: Attempting to use a delegate that only supports static-sized tensors with a graph that has dynamic-sized tensors (tensor#187 is a dynamic-sized tensor).\n"
     ]
    },
    {
     "name": "stdout",
     "output_type": "stream",
     "text": [
      "read_audio_data: complete, read  3600 chunks.\n",
      "analyze_recording 20250501_050000.WAV\n",
      "Wrote: /Users/lucasbeseler/project:AudioMoth_BirdNET/results/csv/AudioMoth_92/20250501_050000.csv\n"
     ]
    }
   ],
   "source": [
    "from src.birdnet_batch import analyze_one_to_csv\n",
    "\n",
    "test_file = files[0]  # choose another if you want\n",
    "print(\"Test file:\", test_file)\n",
    "csv_path = analyze_one_to_csv(test_file, OUT_DIR, min_conf=CONF)\n",
    "print(\"Wrote:\", csv_path)"
   ]
  },
  {
   "cell_type": "markdown",
   "id": "b7113590",
   "metadata": {},
   "source": [
    "Block 4 — Full batch → per-file CSVs"
   ]
  },
  {
   "cell_type": "code",
   "execution_count": null,
   "id": "c73a92f6",
   "metadata": {},
   "outputs": [],
   "source": [
    "# Progress bar batch run \n",
    "from multiprocessing import Pool\n",
    "from tqdm import tqdm\n",
    "from src.birdnet_batch import analyze_one_to_csv, compile_master_csv\n",
    "\n",
    "# Build jobs\n",
    "jobs = [(f, OUT_DIR, CONF) for f in files]\n",
    "\n",
    "def _worker(args):\n",
    "    # top-level function so Pool can pickle it\n",
    "    f, outdir, conf = args\n",
    "    return analyze_one_to_csv(f, outdir, conf)\n",
    "\n",
    "written = []\n",
    "if WORKERS <= 1:\n",
    "    # Serial (safe on any system)\n",
    "    for job in tqdm(jobs, desc=\"Analyzing\", unit=\"file\"):\n",
    "        written.append(_worker(job))\n",
    "else:\n",
    "    # Parallel with progress\n",
    "    with Pool(processes=WORKERS) as pool:\n",
    "        for out in tqdm(pool.imap_unordered(_worker, jobs),\n",
    "                        total=len(jobs), desc=\"Analyzing\", unit=\"file\"):\n",
    "            written.append(out)\n",
    "\n",
    "print(\"Per-file CSVs:\", len(written))\n",
    "\n",
    "# Compile master CSV\n",
    "master = compile_master_csv(OUT_DIR, master_name=\"master_results.csv\")\n",
    "print(\"Master CSV:\", master, \"| exists:\", master.exists())\n"
   ]
  },
  {
   "cell_type": "markdown",
   "id": "d67b8c91",
   "metadata": {},
   "source": [
    "Block 5 — Quick QA"
   ]
  },
  {
   "cell_type": "code",
   "execution_count": null,
   "id": "f4199ad7",
   "metadata": {},
   "outputs": [],
   "source": [
    "import pandas as pd\n",
    "master = OUT_DIR / \"master_results.csv\"\n",
    "df = pd.read_csv(master)\n",
    "print(df.shape)\n",
    "df.head()"
   ]
  }
 ],
 "metadata": {
  "kernelspec": {
   "display_name": "Python 3",
   "language": "python",
   "name": "python3"
  },
  "language_info": {
   "codemirror_mode": {
    "name": "ipython",
    "version": 3
   },
   "file_extension": ".py",
   "mimetype": "text/x-python",
   "name": "python",
   "nbconvert_exporter": "python",
   "pygments_lexer": "ipython3",
   "version": "3.11.11"
  }
 },
 "nbformat": 4,
 "nbformat_minor": 5
}
